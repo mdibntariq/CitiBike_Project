{
 "cells": [
  {
   "cell_type": "code",
   "execution_count": 111,
   "metadata": {},
   "outputs": [],
   "source": [
    "import os\n",
    "import subprocess\n",
    "import pandas as pd\n",
    "import findspark\n",
    "findspark.init()\n",
    "\n",
    "import pyspark\n",
    "import random\n",
    "from pyspark.sql import SparkSession\n",
    "from pyspark.conf import SparkConf\n",
    "from pyspark.sql import SQLContext\n",
    "\n",
    "from hdfs import InsecureClient"
   ]
  },
  {
   "cell_type": "code",
   "execution_count": 51,
   "metadata": {},
   "outputs": [],
   "source": [
    "sc = pyspark.SparkContext(appName=\"Citibike_aggregation\")"
   ]
  },
  {
   "cell_type": "code",
   "execution_count": 99,
   "metadata": {},
   "outputs": [],
   "source": [
    "sqlContext = SQLContext(sc)\n",
    "spark = SparkSession.builder.config(conf=SparkConf())"
   ]
  },
  {
   "cell_type": "code",
   "execution_count": 137,
   "metadata": {},
   "outputs": [],
   "source": [
    "\n",
    "mylst=[2,3,4,5,6,7,8]\n",
    "client_hdfs = InsecureClient('http://ubuntuclient2.psudata.dev:50070')\n",
    "\n",
    "for  i in mylst:\n",
    "    date = '2017112'+str(i)\n",
    "    csvDf = sqlContext.read.format(\"csv\").option(\"header\", \"true\").option(\"inferschema\", \"true\").option(\"mode\", \"DROPMALFORMED\").load('hdfs://ubuntuclient2.psudata.dev:8020/user/hdfs/citibike/raw_data/'+date+\"*.csv\")\n",
    "    pd_df=csvDf.toPandas()\n",
    "    with client_hdfs.write('/user/hdfs/citibike/daily_aggregated_data/aggregated_'+date+'.csv' ,encoding = 'utf-8') as writer:\n",
    "        pd_df.to_csv(writer,index=False)\n",
    "    mkdir_command = 'hdfs dfs -mkdir /user/hdfs/citibike/daily_backup_data/'+date\n",
    "    cmd_mkdir = mkdir_command.split()\n",
    "    subprocess.check_output(cmd_mkdir)\n",
    "    \n",
    "    command_mv = 'hdfs dfs -mv /user/hdfs/citibike/raw_data/'+date+'*.csv  /user/hdfs/citibike/daily_backup_data/'+date\n",
    "    cmd_mv = command_mv.split()\n",
    "    subprocess.check_output(cmd_mv)   "
   ]
  },
  {
   "cell_type": "code",
   "execution_count": 131,
   "metadata": {},
   "outputs": [
    {
     "data": {
      "text/plain": [
       "''"
      ]
     },
     "execution_count": 131,
     "metadata": {},
     "output_type": "execute_result"
    }
   ],
   "source": []
  },
  {
   "cell_type": "code",
   "execution_count": 140,
   "metadata": {},
   "outputs": [
    {
     "name": "stdout",
     "output_type": "stream",
     "text": [
      "20171211\n"
     ]
    }
   ],
   "source": [
    "\n",
    "yesterday = date.today() - timedelta(1)\n",
    "prev_date = yesterday.strftime('%Y%m%d')\n",
    "print(yesterday_formatted_date)"
   ]
  }
 ],
 "metadata": {
  "kernelspec": {
   "display_name": "Python 2",
   "language": "python",
   "name": "python2"
  },
  "language_info": {
   "codemirror_mode": {
    "name": "ipython",
    "version": 2
   },
   "file_extension": ".py",
   "mimetype": "text/x-python",
   "name": "python",
   "nbconvert_exporter": "python",
   "pygments_lexer": "ipython2",
   "version": "2.7.12"
  }
 },
 "nbformat": 4,
 "nbformat_minor": 2
}
