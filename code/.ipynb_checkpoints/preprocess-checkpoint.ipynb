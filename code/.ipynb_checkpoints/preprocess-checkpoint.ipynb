{
 "cells": [
  {
   "cell_type": "code",
   "execution_count": 4,
   "metadata": {},
   "outputs": [],
   "source": [
    "import findspark\n",
    "findspark.init()\n",
    "\n",
    "import pyspark\n",
    "import random\n",
    "\n",
    "sc = pyspark.SparkContext(appName=\"Citibike_preprocess\")"
   ]
  },
  {
   "cell_type": "code",
   "execution_count": 5,
   "metadata": {},
   "outputs": [],
   "source": [
    "from pyspark.sql import SQLContext\n",
    "sqlContext = SQLContext(sc)"
   ]
  },
  {
   "cell_type": "code",
   "execution_count": 6,
   "metadata": {},
   "outputs": [],
   "source": [
    "from pyspark.sql import SparkSession\n",
    "from pyspark.conf import SparkConf\n",
    "spark = SparkSession.builder.config(conf=SparkConf())\n"
   ]
  },
  {
   "cell_type": "code",
   "execution_count": 4,
   "metadata": {},
   "outputs": [
    {
     "name": "stdout",
     "output_type": "stream",
     "text": [
      "root\n",
      " |-- capacity: long (nullable = true)\n",
      " |-- eightd_has_key_dispenser: boolean (nullable = true)\n",
      " |-- lat: double (nullable = true)\n",
      " |-- lon: double (nullable = true)\n",
      " |-- name: string (nullable = true)\n",
      " |-- region_id: long (nullable = true)\n",
      " |-- rental_methods: array (nullable = true)\n",
      " |    |-- element: string (containsNull = true)\n",
      " |-- rental_url: string (nullable = true)\n",
      " |-- short_name: string (nullable = true)\n",
      " |-- station_id: string (nullable = true)\n",
      "\n"
     ]
    }
   ],
   "source": [
    "# A JSON dataset is pointed to by path.\n",
    "# The path can be either a single text file or a directory storing text files.\n",
    "path = \"hdfs://ubuntuclient2.psudata.dev:8020/user/hdfs/citibike/1509381038station_information.json\"\n",
    "# Create a SchemaRDD from the file(s) pointed to by path\n",
    "station = sqlContext.read.json(path)\n",
    "\n",
    "# The inferred schema can be visualized using the printSchema() method.\n",
    "station.printSchema()\n",
    "\n",
    "#text_file = sc.textFile(\"hdfs://user/hdfs/citibike/10_27_2017_133002station_status.json\")"
   ]
  },
  {
   "cell_type": "code",
   "execution_count": 5,
   "metadata": {},
   "outputs": [],
   "source": [
    " station.registerTempTable(\"stations\")"
   ]
  },
  {
   "cell_type": "code",
   "execution_count": 6,
   "metadata": {},
   "outputs": [
    {
     "name": "stdout",
     "output_type": "stream",
     "text": [
      "+----------+\n",
      "|station_id|\n",
      "+----------+\n",
      "|        72|\n",
      "|        79|\n",
      "|        82|\n",
      "|        83|\n",
      "|       116|\n",
      "|       119|\n",
      "|       120|\n",
      "|       127|\n",
      "|       128|\n",
      "|       143|\n",
      "|       144|\n",
      "|       146|\n",
      "|       150|\n",
      "|       151|\n",
      "|       152|\n",
      "|       157|\n",
      "|       161|\n",
      "|       164|\n",
      "|       167|\n",
      "|       168|\n",
      "+----------+\n",
      "only showing top 20 rows\n",
      "\n"
     ]
    }
   ],
   "source": [
    "sqlContext.sql(\"select station_id from stations\").show()"
   ]
  },
  {
   "cell_type": "code",
   "execution_count": 7,
   "metadata": {},
   "outputs": [
    {
     "data": {
      "text/plain": [
       "811"
      ]
     },
     "execution_count": 7,
     "metadata": {},
     "output_type": "execute_result"
    }
   ],
   "source": [
    "station.count()"
   ]
  },
  {
   "cell_type": "code",
   "execution_count": 16,
   "metadata": {},
   "outputs": [],
   "source": [
    "import os\n",
    "import subprocess\n",
    "\n",
    "\n"
   ]
  },
  {
   "cell_type": "code",
   "execution_count": 41,
   "metadata": {},
   "outputs": [
    {
     "name": "stdout",
     "output_type": "stream",
     "text": [
      "<type 'list'>\n"
     ]
    }
   ],
   "source": [
    "cmd = 'hdfs dfs -ls /user/hdfs/citibike'.split()\n",
    "files = subprocess.check_output(cmd).strip().split('\\n')\n",
    "print(type(files))\n"
   ]
  },
  {
   "cell_type": "code",
   "execution_count": 48,
   "metadata": {},
   "outputs": [
    {
     "ename": "TypeError",
     "evalue": "unhashable type: 'list'",
     "output_type": "error",
     "traceback": [
      "\u001b[0;31m---------------------------------------------------------------------------\u001b[0m",
      "\u001b[0;31mTypeError\u001b[0m                                 Traceback (most recent call last)",
      "\u001b[0;32m<ipython-input-48-693872ae1881>\u001b[0m in \u001b[0;36m<module>\u001b[0;34m()\u001b[0m\n\u001b[1;32m      5\u001b[0m     \u001b[0mtemp\u001b[0m \u001b[0;34m=\u001b[0m \u001b[0mre\u001b[0m\u001b[0;34m.\u001b[0m\u001b[0msplit\u001b[0m\u001b[0;34m(\u001b[0m\u001b[0;34mr'/user/hdfs/citibike/'\u001b[0m\u001b[0;34m,\u001b[0m \u001b[0mstr\u001b[0m\u001b[0;34m)\u001b[0m\u001b[0;34m\u001b[0m\u001b[0m\n\u001b[1;32m      6\u001b[0m     \u001b[0mtemp1\u001b[0m\u001b[0;34m=\u001b[0m \u001b[0mtemp\u001b[0m\u001b[0;34m[\u001b[0m\u001b[0;36m0\u001b[0m\u001b[0;34m:\u001b[0m\u001b[0;36m10\u001b[0m\u001b[0;34m]\u001b[0m\u001b[0;34m\u001b[0m\u001b[0m\n\u001b[0;32m----> 7\u001b[0;31m     \u001b[0;32mif\u001b[0m \u001b[0mtemp1\u001b[0m \u001b[0;32min\u001b[0m \u001b[0mmetadata\u001b[0m\u001b[0;34m:\u001b[0m\u001b[0;34m\u001b[0m\u001b[0m\n\u001b[0m\u001b[1;32m      8\u001b[0m         \u001b[0mmetadata\u001b[0m\u001b[0;34m[\u001b[0m\u001b[0mtemp1\u001b[0m\u001b[0;34m]\u001b[0m \u001b[0;34m=\u001b[0m \u001b[0mmetadata\u001b[0m\u001b[0;34m[\u001b[0m\u001b[0mtemp1\u001b[0m\u001b[0;34m]\u001b[0m\u001b[0;34m+\u001b[0m\u001b[0;34m','\u001b[0m\u001b[0;34m+\u001b[0m\u001b[0mtemp\u001b[0m\u001b[0;34m\u001b[0m\u001b[0m\n\u001b[1;32m      9\u001b[0m     \u001b[0;32melse\u001b[0m \u001b[0;34m:\u001b[0m\u001b[0;34m\u001b[0m\u001b[0m\n",
      "\u001b[0;31mTypeError\u001b[0m: unhashable type: 'list'"
     ]
    }
   ],
   "source": [
    "import re\n",
    "fileList =[]\n",
    "metadata = {}\n",
    "for path in files:\n",
    "    temp = re.split(r'/user/hdfs/citibike/', str)\n",
    "    temp1= temp[0:10]\n",
    "    print()\n",
    "    if temp1 in metadata:\n",
    "        metadata[temp1] = metadata[temp1]+','+temp\n",
    "    else :\n",
    "        metadata[temp1] = temp\n",
    "    \n",
    "    fileList.append(temp[1])\n",
    "    \n",
    "    \n",
    "print(metadata)"
   ]
  },
  {
   "cell_type": "code",
   "execution_count": 47,
   "metadata": {},
   "outputs": [
    {
     "name": "stdout",
     "output_type": "stream",
     "text": [
      "1509729915station_information.json\n"
     ]
    }
   ],
   "source": [
    "print(fileList[0])"
   ]
  },
  {
   "cell_type": "code",
   "execution_count": 38,
   "metadata": {},
   "outputs": [],
   "source": [
    "\n"
   ]
  },
  {
   "cell_type": "code",
   "execution_count": 39,
   "metadata": {},
   "outputs": [
    {
     "name": "stdout",
     "output_type": "stream",
     "text": [
      "<type 'list'>\n"
     ]
    }
   ],
   "source": [
    "print(type(temp))\n"
   ]
  },
  {
   "cell_type": "code",
   "execution_count": 40,
   "metadata": {},
   "outputs": [
    {
     "name": "stdout",
     "output_type": "stream",
     "text": [
      "1509729915station_information.json\n"
     ]
    }
   ],
   "source": [
    "print(temp[1])"
   ]
  },
  {
   "cell_type": "code",
   "execution_count": null,
   "metadata": {},
   "outputs": [],
   "source": []
  },
  {
   "cell_type": "code",
   "execution_count": 19,
   "metadata": {},
   "outputs": [
    {
     "ename": "ImportError",
     "evalue": "No module named hdfs",
     "output_type": "error",
     "traceback": [
      "\u001b[0;31m---------------------------------------------------------------------------\u001b[0m",
      "\u001b[0;31mImportError\u001b[0m                               Traceback (most recent call last)",
      "\u001b[0;32m<ipython-input-19-840be031d37f>\u001b[0m in \u001b[0;36m<module>\u001b[0;34m()\u001b[0m\n\u001b[0;32m----> 1\u001b[0;31m \u001b[0;32mfrom\u001b[0m \u001b[0mpyspark\u001b[0m\u001b[0;34m.\u001b[0m\u001b[0mhdfs\u001b[0m \u001b[0;32mimport\u001b[0m \u001b[0mConfig\u001b[0m\u001b[0;34m\u001b[0m\u001b[0m\n\u001b[0m\u001b[1;32m      2\u001b[0m \u001b[0mclient\u001b[0m \u001b[0;34m=\u001b[0m \u001b[0mConfig\u001b[0m\u001b[0;34m(\u001b[0m\u001b[0;34m)\u001b[0m\u001b[0;34m.\u001b[0m\u001b[0mget_client\u001b[0m\u001b[0;34m(\u001b[0m\u001b[0;34m'ubuntuclient2.psudata.dev:8020'\u001b[0m\u001b[0;34m)\u001b[0m\u001b[0;34m\u001b[0m\u001b[0m\n\u001b[1;32m      3\u001b[0m \u001b[0mfiles\u001b[0m \u001b[0;34m=\u001b[0m \u001b[0mclient\u001b[0m\u001b[0;34m.\u001b[0m\u001b[0mlist\u001b[0m\u001b[0;34m(\u001b[0m\u001b[0;34m'/user/hdfs/citibike/'\u001b[0m\u001b[0;34m)\u001b[0m\u001b[0;34m\u001b[0m\u001b[0m\n\u001b[1;32m      4\u001b[0m \u001b[0;34m\u001b[0m\u001b[0m\n\u001b[1;32m      5\u001b[0m \u001b[0;32mfor\u001b[0m \u001b[0mpath\u001b[0m \u001b[0;32min\u001b[0m \u001b[0mfiles\u001b[0m\u001b[0;34m:\u001b[0m\u001b[0;34m\u001b[0m\u001b[0m\n",
      "\u001b[0;31mImportError\u001b[0m: No module named hdfs"
     ]
    }
   ],
   "source": [
    "from pyspark.hdfs import Config\n",
    "client = Config().get_client('ubuntuclient2.psudata.dev:8020')\n",
    "files = client.list('/user/hdfs/citibike/')\n",
    "\n",
    "for path in files:\n",
    "  print path"
   ]
  },
  {
   "cell_type": "code",
   "execution_count": null,
   "metadata": {},
   "outputs": [],
   "source": []
  },
  {
   "cell_type": "code",
   "execution_count": null,
   "metadata": {},
   "outputs": [],
   "source": []
  },
  {
   "cell_type": "code",
   "execution_count": 15,
   "metadata": {},
   "outputs": [
    {
     "data": {
      "text/plain": [
       "[u'{\"station_id\":\"72\",\"name\":\"W 52 St & 11 Ave\",\"short_name\":\"6926.01\",\"lat\":40.76727216,\"lon\":-73.99392888,\"region_id\":71,\"rental_methods\":[\"KEY\",\"CREDITCARD\"],\"capacity\":39,\"rental_url\":\"http://app.citibikenyc.com/S6Lr/IBV092JufD?station_id=72\",\"eightd_has_key_dispenser\":false},',\n",
       " u'{\"station_id\":\"79\",\"name\":\"Franklin St & W Broadway\",\"short_name\":\"5430.08\",\"lat\":40.71911552,\"lon\":-74.00666661,\"region_id\":71,\"rental_methods\":[\"KEY\",\"CREDITCARD\"],\"capacity\":33,\"rental_url\":\"http://app.citibikenyc.com/S6Lr/IBV092JufD?station_id=79\",\"eightd_has_key_dispenser\":false},',\n",
       " u'{\"station_id\":\"82\",\"name\":\"St James Pl & Pearl St\",\"short_name\":\"5167.06\",\"lat\":40.71117416,\"lon\":-74.00016545,\"region_id\":71,\"rental_methods\":[\"KEY\",\"CREDITCARD\"],\"capacity\":27,\"rental_url\":\"http://app.citibikenyc.com/S6Lr/IBV092JufD?station_id=82\",\"eightd_has_key_dispenser\":false},',\n",
       " u'{\"station_id\":\"83\",\"name\":\"Atlantic Ave & Fort Greene Pl\",\"short_name\":\"4354.07\",\"lat\":40.68382604,\"lon\":-73.97632328,\"region_id\":71,\"rental_methods\":[\"KEY\",\"CREDITCARD\"],\"capacity\":62,\"rental_url\":\"http://app.citibikenyc.com/S6Lr/IBV092JufD?station_id=83\",\"eightd_has_key_dispenser\":false},',\n",
       " u'{\"station_id\":\"116\",\"name\":\"W 17 St & 8 Ave\",\"short_name\":\"6148.02\",\"lat\":40.74177603,\"lon\":-74.00149746,\"region_id\":71,\"rental_methods\":[\"KEY\",\"CREDITCARD\"],\"capacity\":39,\"rental_url\":\"http://app.citibikenyc.com/S6Lr/IBV092JufD?station_id=116\",\"eightd_has_key_dispenser\":false},',\n",
       " u'{\"station_id\":\"119\",\"name\":\"Park Ave & St Edwards St\",\"short_name\":\"4700.06\",\"lat\":40.69608941,\"lon\":-73.97803415,\"region_id\":71,\"rental_methods\":[\"KEY\",\"CREDITCARD\"],\"capacity\":19,\"rental_url\":\"http://app.citibikenyc.com/S6Lr/IBV092JufD?station_id=119\",\"eightd_has_key_dispenser\":false},',\n",
       " u'{\"station_id\":\"120\",\"name\":\"Lexington Ave & Classon Ave\",\"short_name\":\"4452.03\",\"lat\":40.68676793,\"lon\":-73.95928168,\"region_id\":71,\"rental_methods\":[\"KEY\",\"CREDITCARD\"],\"capacity\":19,\"rental_url\":\"http://app.citibikenyc.com/S6Lr/IBV092JufD?station_id=120\",\"eightd_has_key_dispenser\":false},',\n",
       " u'{\"station_id\":\"127\",\"name\":\"Barrow St & Hudson St\",\"short_name\":\"5805.05\",\"lat\":40.73172428,\"lon\":-74.00674436,\"region_id\":71,\"rental_methods\":[\"KEY\",\"CREDITCARD\"],\"capacity\":31,\"rental_url\":\"http://app.citibikenyc.com/S6Lr/IBV092JufD?station_id=127\",\"eightd_has_key_dispenser\":false},',\n",
       " u'{\"station_id\":\"128\",\"name\":\"MacDougal St & Prince St\",\"short_name\":\"5687.04\",\"lat\":40.72710258,\"lon\":-74.00297088,\"region_id\":71,\"rental_methods\":[\"KEY\",\"CREDITCARD\"],\"capacity\":30,\"rental_url\":\"http://app.citibikenyc.com/S6Lr/IBV092JufD?station_id=128\",\"eightd_has_key_dispenser\":false},',\n",
       " u'{\"station_id\":\"143\",\"name\":\"Clinton St & Joralemon St\",\"short_name\":\"4605.04\",\"lat\":40.69239502,\"lon\":-73.99337909,\"region_id\":71,\"rental_methods\":[\"KEY\",\"CREDITCARD\"],\"capacity\":24,\"rental_url\":\"http://app.citibikenyc.com/S6Lr/IBV092JufD?station_id=143\",\"eightd_has_key_dispenser\":false},']"
      ]
     },
     "execution_count": 15,
     "metadata": {},
     "output_type": "execute_result"
    }
   ],
   "source": [
    "errorCount.take(10)"
   ]
  }
 ],
 "metadata": {
  "kernelspec": {
   "display_name": "Python 2",
   "language": "python",
   "name": "python2"
  },
  "language_info": {
   "codemirror_mode": {
    "name": "ipython",
    "version": 2
   },
   "file_extension": ".py",
   "mimetype": "text/x-python",
   "name": "python",
   "nbconvert_exporter": "python",
   "pygments_lexer": "ipython2",
   "version": "2.7.12"
  }
 },
 "nbformat": 4,
 "nbformat_minor": 2
}
